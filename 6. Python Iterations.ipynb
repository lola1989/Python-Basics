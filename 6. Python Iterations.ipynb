{
 "cells": [
  {
   "cell_type": "markdown",
   "id": "286fca87",
   "metadata": {},
   "source": [
    "# For Loops"
   ]
  },
  {
   "cell_type": "code",
   "execution_count": 1,
   "id": "ac2e9d0a",
   "metadata": {},
   "outputs": [],
   "source": [
    "even = [0,2,4,6,8,10,12,14,16,18,20]\n",
    "#list"
   ]
  },
  {
   "cell_type": "code",
   "execution_count": 2,
   "id": "20d37ce5",
   "metadata": {},
   "outputs": [
    {
     "name": "stdout",
     "output_type": "stream",
     "text": [
      "0\n",
      "2\n",
      "4\n",
      "6\n",
      "8\n",
      "10\n",
      "12\n",
      "14\n",
      "16\n",
      "18\n",
      "20\n"
     ]
    }
   ],
   "source": [
    "for n in even:\n",
    "    print (n)"
   ]
  },
  {
   "cell_type": "code",
   "execution_count": 3,
   "id": "ead8e6da",
   "metadata": {},
   "outputs": [
    {
     "name": "stdout",
     "output_type": "stream",
     "text": [
      "0 2 4 6 8 10 12 14 16 18 20 "
     ]
    }
   ],
   "source": [
    "#print in a line , end = \" \"\n",
    "for n in even:\n",
    "    print (n, end = \" \")"
   ]
  },
  {
   "cell_type": "markdown",
   "id": "518731bf",
   "metadata": {},
   "source": [
    "# While Loop"
   ]
  },
  {
   "cell_type": "code",
   "execution_count": 5,
   "id": "4f65a228",
   "metadata": {},
   "outputs": [
    {
     "name": "stdout",
     "output_type": "stream",
     "text": [
      "0 2 4 6 8 10 12 14 16 18 20 "
     ]
    }
   ],
   "source": [
    "x = 0\n",
    "while x <= 20:\n",
    "    print(x, end = \" \")\n",
    "    x = x + 2"
   ]
  },
  {
   "cell_type": "code",
   "execution_count": 6,
   "id": "2e91e91f",
   "metadata": {},
   "outputs": [
    {
     "name": "stdout",
     "output_type": "stream",
     "text": [
      "0 2 4 6 8 10 12 14 16 18 20 "
     ]
    }
   ],
   "source": [
    "x = 0\n",
    "while x <= 20:\n",
    "    print(x, end = \" \")\n",
    "    x += 2"
   ]
  },
  {
   "cell_type": "markdown",
   "id": "984fc7fc",
   "metadata": {},
   "source": [
    "# Lists with Range ()"
   ]
  },
  {
   "cell_type": "markdown",
   "id": "3efa464e",
   "metadata": {},
   "source": [
    "range(start, stop, step)\\\n",
    "range if not provided (0, stop, 1)\\\n",
    "start = the first number in the list\\\n",
    "stop = the last value -1\\\n",
    "step = the distance between each two consequtive values"
   ]
  },
  {
   "cell_type": "code",
   "execution_count": 10,
   "id": "c3a70227",
   "metadata": {},
   "outputs": [
    {
     "data": {
      "text/plain": [
       "[1, 2, 3, 4, 5, 6, 7, 8, 9, 10, 11, 12, 13, 14, 15, 16, 17, 18, 19, 20]"
      ]
     },
     "execution_count": 10,
     "metadata": {},
     "output_type": "execute_result"
    }
   ],
   "source": [
    "list(range(1,21,1))"
   ]
  },
  {
   "cell_type": "markdown",
   "id": "d1bd3644",
   "metadata": {},
   "source": [
    "# Conditional Statements and Loops"
   ]
  },
  {
   "cell_type": "code",
   "execution_count": 11,
   "id": "abbdef49",
   "metadata": {},
   "outputs": [
    {
     "name": "stdout",
     "output_type": "stream",
     "text": [
      "1 2 4 8 16 32 64 128 256 512 "
     ]
    }
   ],
   "source": [
    "for n in range(10):\n",
    "    print (2 ** n, end = \" \")"
   ]
  },
  {
   "cell_type": "code",
   "execution_count": 15,
   "id": "a18885e5",
   "metadata": {},
   "outputs": [
    {
     "name": "stdout",
     "output_type": "stream",
     "text": [
      "0 Odd 2 Odd 4 Odd 6 Odd 8 Odd 10 Odd 12 Odd 14 Odd 16 Odd 18 Odd "
     ]
    }
   ],
   "source": [
    "for x in range(20):\n",
    "    if x % 2 == 0:\n",
    "        print(x, end = \" \")\n",
    "    else:\n",
    "        print(\"Odd\", end = \" \")"
   ]
  },
  {
   "cell_type": "code",
   "execution_count": 16,
   "id": "1798d54d",
   "metadata": {},
   "outputs": [
    {
     "name": "stdout",
     "output_type": "stream",
     "text": [
      "0 1 2 "
     ]
    }
   ],
   "source": [
    "x = [0,1,2]\n",
    "\n",
    "for item in x:\n",
    "    print(item, end = \" \")"
   ]
  },
  {
   "cell_type": "code",
   "execution_count": 17,
   "id": "3550b59b",
   "metadata": {},
   "outputs": [
    {
     "name": "stdout",
     "output_type": "stream",
     "text": [
      "0 1 2 "
     ]
    }
   ],
   "source": [
    "#used to select value from a list\n",
    "for i in range(len(x)):\n",
    "    print(x[i], end = \" \")"
   ]
  },
  {
   "cell_type": "code",
   "execution_count": 22,
   "id": "910fae58",
   "metadata": {},
   "outputs": [
    {
     "name": "stdout",
     "output_type": "stream",
     "text": [
      "0 2 4 6 8 10 12 14 16 18 "
     ]
    }
   ],
   "source": [
    "\n",
    "for i in range(10):\n",
    "    print(i * 2, end = \" \")"
   ]
  },
  {
   "cell_type": "markdown",
   "id": "0eab41e4",
   "metadata": {},
   "source": [
    "You have the following list of numbers. Iterate over this list, printing out each list value multiplied by 10. Find two solutions of this problem."
   ]
  },
  {
   "cell_type": "code",
   "execution_count": 23,
   "id": "39c7243a",
   "metadata": {},
   "outputs": [
    {
     "name": "stdout",
     "output_type": "stream",
     "text": [
      "10 20 30 40 50 60 10 20 30 40 50 60 "
     ]
    }
   ],
   "source": [
    "n = [1,2,3,4,5,6]\n",
    "\n",
    "for i in range(len(n)):\n",
    "    print(n[i] * 10, end = \" \")\n",
    "\n",
    "for i in n:\n",
    "    print(i * 10, end = \" \")"
   ]
  },
  {
   "cell_type": "markdown",
   "id": "d625e702",
   "metadata": {},
   "source": [
    "# Conditional Statments, Functions, Loops"
   ]
  },
  {
   "cell_type": "code",
   "execution_count": 27,
   "id": "3b643285",
   "metadata": {},
   "outputs": [],
   "source": [
    "#Count the number of items whos value is less than 20 in a list\n",
    "def count(numbers):\n",
    "    total = 0  #rolling sum\n",
    "    for i in numbers:\n",
    "        if i < 20:\n",
    "            total += 1\n",
    "    return total\n",
    "    "
   ]
  },
  {
   "cell_type": "code",
   "execution_count": 28,
   "id": "916da990",
   "metadata": {},
   "outputs": [],
   "source": [
    "list3 = [1,5,10,14,55,68,54]"
   ]
  },
  {
   "cell_type": "code",
   "execution_count": 29,
   "id": "f7e7f471",
   "metadata": {},
   "outputs": [
    {
     "data": {
      "text/plain": [
       "4"
      ]
     },
     "execution_count": 29,
     "metadata": {},
     "output_type": "execute_result"
    }
   ],
   "source": [
    "count(list3)"
   ]
  },
  {
   "cell_type": "markdown",
   "id": "162fe378",
   "metadata": {},
   "source": [
    "You are provided with the nums list. Define a function called count() containing a while loop to count the number of values in the nums list that are lower than 20."
   ]
  },
  {
   "cell_type": "code",
   "execution_count": 40,
   "id": "82a6dfee",
   "metadata": {},
   "outputs": [],
   "source": [
    "nums = [1,35,12,24,31,51,70,100]\n",
    "\n",
    "def count(numbers):\n",
    "    numbers = sorted(numbers)\n",
    "    total = 0\n",
    "    \n",
    "    while numbers[total] < 20:\n",
    "        total += 1\n",
    "    return total"
   ]
  },
  {
   "cell_type": "code",
   "execution_count": 41,
   "id": "fee4d8c0",
   "metadata": {},
   "outputs": [
    {
     "data": {
      "text/plain": [
       "2"
      ]
     },
     "execution_count": 41,
     "metadata": {},
     "output_type": "execute_result"
    }
   ],
   "source": [
    "count(nums)"
   ]
  },
  {
   "cell_type": "markdown",
   "id": "d70ed5e8",
   "metadata": {},
   "source": [
    "# Iterate over Dictionaries"
   ]
  },
  {
   "cell_type": "code",
   "execution_count": 44,
   "id": "d908c1fa",
   "metadata": {},
   "outputs": [
    {
     "name": "stdout",
     "output_type": "stream",
     "text": [
      "74\n"
     ]
    }
   ],
   "source": [
    "prices = {\n",
    "    \"box_of_spaghetti\" : 4,\n",
    "    \"lasagna\"  : 5,\n",
    "    \"hamburger\" : 2\n",
    "   }\n",
    "quantity = {\n",
    "    \"box_of_spaghetti\" : 6,\n",
    "    \"lasagna\"  : 10,\n",
    "    \"hamburger\" : 0\n",
    "    }\n",
    "\n",
    "money_spent = 0\n",
    "\n",
    "for i in prices:\n",
    "    money_spent = money_spent + (prices[i] * quantity[i])\n",
    "print(money_spent)"
   ]
  },
  {
   "cell_type": "markdown",
   "id": "4d8484cd",
   "metadata": {},
   "source": [
    "Use the same dictionaries as the ones we used in the lesson - prices and quantity. This time, don't just calculate all the money Jan spent. Calculate how much she spent on products with a price of 5 dollars or more."
   ]
  },
  {
   "cell_type": "code",
   "execution_count": 45,
   "id": "2400b558",
   "metadata": {},
   "outputs": [
    {
     "name": "stdout",
     "output_type": "stream",
     "text": [
      "50\n"
     ]
    }
   ],
   "source": [
    "prices = {\n",
    "    \"box_of_spaghetti\" : 4,\n",
    "    \"lasagna\"  : 5,\n",
    "    \"hamburger\" : 2\n",
    "   }\n",
    "quantity = {\n",
    "    \"box_of_spaghetti\" : 6,\n",
    "    \"lasagna\"  : 10,\n",
    "    \"hamburger\" : 0\n",
    "    }\n",
    "    \n",
    "money_spent = 0\n",
    "\n",
    "for i in prices:\n",
    "    if prices[i] >= 5:\n",
    "        money_spent = money_spent + (prices[i] * quantity[i])\n",
    "print(money_spent)\n"
   ]
  }
 ],
 "metadata": {
  "kernelspec": {
   "display_name": "Python 3 (ipykernel)",
   "language": "python",
   "name": "python3"
  },
  "language_info": {
   "codemirror_mode": {
    "name": "ipython",
    "version": 3
   },
   "file_extension": ".py",
   "mimetype": "text/x-python",
   "name": "python",
   "nbconvert_exporter": "python",
   "pygments_lexer": "ipython3",
   "version": "3.9.12"
  }
 },
 "nbformat": 4,
 "nbformat_minor": 5
}
