{
 "cells": [
  {
   "cell_type": "markdown",
   "metadata": {},
   "source": [
    "# Open & Append Multiple CSV Files into one DataFrame"
   ]
  },
  {
   "cell_type": "markdown",
   "metadata": {},
   "source": [
    "Using Python 3.9.12\n",
    "\n",
    "This notebook allows you to:\n",
    "1. Open multiple CSV files fom a dialog box. \n",
    "2. Load CSVs into a DataFrame\n",
    "3. Append all DataFrames into a single DataFrame"
   ]
  },
  {
   "cell_type": "code",
   "execution_count": null,
   "metadata": {},
   "outputs": [],
   "source": [
    "# Import Libraries\n",
    "\n",
    "import pandas as pd\n",
    "from tkinter import Tk, filedialog"
   ]
  },
  {
   "cell_type": "code",
   "execution_count": null,
   "metadata": {},
   "outputs": [],
   "source": [
    "# Function to Open & Append Multiple CSV Files into one DataFrame\n",
    "\n",
    "def open_multiple_csvs():\n",
    "    \"\"\"Opens multiple CSV files, loads them into separate DataFrames, and stores them in a dictionary.\"\"\"\n",
    "    root = Tk()\n",
    "    root.withdraw()  # Hide the main Tkinter window\n",
    "    root.call('wm', 'attributes', '.', '-topmost', True)  # Ensure dialog appears on top\n",
    "\n",
    "    # Ask user to select multiple CSV files\n",
    "    file_paths = filedialog.askopenfilenames(title=\"Select CSV files\", filetypes=[(\"CSV files\", \"*.csv\")])\n",
    "\n",
    "    if not file_paths:  # If no files were selected\n",
    "        print(\"No files selected.\")\n",
    "        return {}\n",
    "\n",
    "    # Dictionary to store DataFrames with meaningful names\n",
    "    dfs = {}\n",
    "\n",
    "    for file_path in file_paths:\n",
    "        # Extract file name (without path and .csv extension) for naming\n",
    "        file_name = file_path.split(\"/\")[-1].replace(\".csv\", \"\")\n",
    "\n",
    "        # Load CSV into a DataFrame \n",
    "        df = pd.read_csv(file_path)\n",
    "        df[\"Source_File\"] = file_name  # Add a new column to store filename\n",
    "\n",
    "        # Store DataFrame as a Dictionary\n",
    "        dfs[file_name] = df\n",
    "\n",
    "        print(f\"Loaded: {file_name}\")  # Print confirmation for each file\n",
    "\n",
    "    return dfs  # Returns a dictionary of DataFrames\n",
    "\n",
    "# Call Function to load the CSVs\n",
    "df_dict = open_multiple_csvs()  # df_dict = dictionary, keys = filenames & values = DataFrames\n",
    "\n",
    "# Append all DataFrames into a single DataFrame\n",
    "df_combined = pd.concat(df_dict.values(), ignore_index=True)\n",
    "\n",
    "# Print the first few rows of the combined DataFrame\n",
    "print(df_combined.head())\n"
   ]
  }
 ],
 "metadata": {
  "kernelspec": {
   "display_name": "base",
   "language": "python",
   "name": "python3"
  },
  "language_info": {
   "codemirror_mode": {
    "name": "ipython",
    "version": 3
   },
   "file_extension": ".py",
   "mimetype": "text/x-python",
   "name": "python",
   "nbconvert_exporter": "python",
   "pygments_lexer": "ipython3",
   "version": "3.9.12"
  }
 },
 "nbformat": 4,
 "nbformat_minor": 2
}
