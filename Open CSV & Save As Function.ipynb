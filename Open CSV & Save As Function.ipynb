{
 "cells": [
  {
   "cell_type": "markdown",
   "metadata": {},
   "source": [
    "# Open CSV & Save As Function"
   ]
  },
  {
   "cell_type": "markdown",
   "metadata": {},
   "source": [
    "Using Python base 3.9.12\n",
    "\n",
    "This notebook allows you to:\n",
    "1. Open a CSV From a dialog box. \n",
    "2. Export the data frame as a new CSV file."
   ]
  },
  {
   "cell_type": "code",
   "execution_count": null,
   "metadata": {},
   "outputs": [],
   "source": [
    "# Import Libraries\n",
    "\n",
    "import pandas as pd\n",
    "import tkinter as tk\n",
    "from tkinter import filedialog"
   ]
  },
  {
   "cell_type": "code",
   "execution_count": null,
   "metadata": {},
   "outputs": [],
   "source": [
    "# Function to Open CSV from a Dialog Box\n",
    "\n",
    "def open_csv():\n",
    "    \"\"\"Opens a CSV file from anywhere on the computer and returns it as a DataFrame.\"\"\"\n",
    "    root = tk.Tk()\n",
    "    root.withdraw()  # Hide the root window\n",
    "    root.call('wm', 'attributes', '.', '-topmost', True)  # Ensure dialog appears on top\n",
    "\n",
    "    file_path = filedialog.askopenfilename(title=\"Select a CSV file\", \n",
    "                                           filetypes=[(\"CSV files\", \"*.csv\")])\n",
    "    \n",
    "    if file_path:  # If a file is selected\n",
    "        df = pd.read_csv(file_path)\n",
    "        print(f\"Loaded {file_path} successfully!\")\n",
    "        return df\n",
    "    else:\n",
    "        print(\"No file selected.\")\n",
    "        return None\n",
    "\n",
    "# Example usage\n",
    "df = open_csv()\n",
    "df.info()"
   ]
  },
  {
   "cell_type": "code",
   "execution_count": null,
   "metadata": {},
   "outputs": [],
   "source": [
    "# Export Processed DataFrame to CSV\n",
    "\n",
    "def save_dataframe(df):\n",
    "    \"\"\"Opens a save dialog to save the given DataFrame as a CSV file.\"\"\"\n",
    "    root = tk.Tk()\n",
    "    root.withdraw()  # Hide the main Tkinter window\n",
    "    root.call('wm', 'attributes', '.', '-topmost', True)  # Ensure the dialog appears on top\n",
    "\n",
    "    # Ask the user where to save the file\n",
    "    save_path = filedialog.asksaveasfilename(\n",
    "        title=\"Save DataFrame As\",\n",
    "        defaultextension=\".csv\",\n",
    "        filetypes=[(\"CSV files\", \"*.csv\")]\n",
    "    )\n",
    "\n",
    "    if save_path:  # If a save location is selected\n",
    "        df.to_csv(save_path, index=False)\n",
    "        print(f\"DataFrame saved successfully at {save_path}\")\n",
    "    else:\n",
    "        print(\"Save operation canceled.\")\n",
    "\n",
    "# Example usage:\n",
    "\n",
    "save_dataframe(df)"
   ]
  }
 ],
 "metadata": {
  "kernelspec": {
   "display_name": "base",
   "language": "python",
   "name": "python3"
  },
  "language_info": {
   "name": "python",
   "version": "3.9.12"
  }
 },
 "nbformat": 4,
 "nbformat_minor": 2
}
