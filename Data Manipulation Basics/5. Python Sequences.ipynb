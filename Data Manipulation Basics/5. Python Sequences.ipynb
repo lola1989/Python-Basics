{
 "cells": [
  {
   "cell_type": "markdown",
   "id": "214fb8c3",
   "metadata": {},
   "source": [
    "# Lists []"
   ]
  },
  {
   "cell_type": "markdown",
   "id": "b8546dbb",
   "metadata": {},
   "source": [
    "lists [\" \",\" \"] - a type of sequences of data points\n",
    "\n",
    "indexing value 1 means extrcting the 2nd element in the list\\\n",
    "list values are strings"
   ]
  },
  {
   "cell_type": "code",
   "execution_count": 9,
   "id": "2c656d64",
   "metadata": {},
   "outputs": [
    {
     "data": {
      "text/plain": [
       "['John', 'Mike', 'Cate', 'Sasha']"
      ]
     },
     "execution_count": 9,
     "metadata": {},
     "output_type": "execute_result"
    }
   ],
   "source": [
    "names = ['John', 'Mike', 'Cate', 'Sasha']\n",
    "names"
   ]
  },
  {
   "cell_type": "code",
   "execution_count": 3,
   "id": "67dc53f0",
   "metadata": {},
   "outputs": [
    {
     "data": {
      "text/plain": [
       "'Sasha'"
      ]
     },
     "execution_count": 3,
     "metadata": {},
     "output_type": "execute_result"
    }
   ],
   "source": [
    "names[3]"
   ]
  },
  {
   "cell_type": "code",
   "execution_count": 4,
   "id": "aab70d14",
   "metadata": {},
   "outputs": [
    {
     "data": {
      "text/plain": [
       "'John'"
      ]
     },
     "execution_count": 4,
     "metadata": {},
     "output_type": "execute_result"
    }
   ],
   "source": [
    "names[0]"
   ]
  },
  {
   "cell_type": "code",
   "execution_count": 5,
   "id": "c07ba611",
   "metadata": {},
   "outputs": [
    {
     "name": "stdout",
     "output_type": "stream",
     "text": [
      "Mike\n"
     ]
    }
   ],
   "source": [
    "print(names[1])"
   ]
  },
  {
   "cell_type": "code",
   "execution_count": 6,
   "id": "ff0cdd12",
   "metadata": {},
   "outputs": [
    {
     "data": {
      "text/plain": [
       "'Sasha'"
      ]
     },
     "execution_count": 6,
     "metadata": {},
     "output_type": "execute_result"
    }
   ],
   "source": [
    "#grab last name in the list\n",
    "names[-1]"
   ]
  },
  {
   "cell_type": "code",
   "execution_count": 10,
   "id": "1816e699",
   "metadata": {},
   "outputs": [
    {
     "data": {
      "text/plain": [
       "['John', 'Mike', 'Maria', 'Sasha']"
      ]
     },
     "execution_count": 10,
     "metadata": {},
     "output_type": "execute_result"
    }
   ],
   "source": [
    "#replacing values in a list\n",
    "names[2] = \"Maria\"\n",
    "names"
   ]
  },
  {
   "cell_type": "code",
   "execution_count": 11,
   "id": "adbc8af1",
   "metadata": {},
   "outputs": [
    {
     "data": {
      "text/plain": [
       "['John', 'Maria', 'Sasha']"
      ]
     },
     "execution_count": 11,
     "metadata": {},
     "output_type": "execute_result"
    }
   ],
   "source": [
    "#delete values in a list\n",
    "del names[1]\n",
    "names"
   ]
  },
  {
   "cell_type": "markdown",
   "id": "21958ac9",
   "metadata": {},
   "source": [
    "# Using Methods"
   ]
  },
  {
   "cell_type": "markdown",
   "id": "d183745f",
   "metadata": {},
   "source": [
    ". dot opperator\n",
    "\n",
    "object.method()\\\n",
    "names.append()"
   ]
  },
  {
   "cell_type": "code",
   "execution_count": 12,
   "id": "4d2d9f38",
   "metadata": {},
   "outputs": [
    {
     "data": {
      "text/plain": [
       "['John', 'Maria', 'Sasha', 'Dwayne']"
      ]
     },
     "execution_count": 12,
     "metadata": {},
     "output_type": "execute_result"
    }
   ],
   "source": [
    "names.append(\"Dwayne\")\n",
    "names"
   ]
  },
  {
   "cell_type": "code",
   "execution_count": 15,
   "id": "34c6dcd7",
   "metadata": {},
   "outputs": [
    {
     "data": {
      "text/plain": [
       "['John', 'Maria', 'Sasha', 'Dwayne', 'George', 'Cate', 'George', 'Cate']"
      ]
     },
     "execution_count": 15,
     "metadata": {},
     "output_type": "execute_result"
    }
   ],
   "source": [
    "#extend([]) uses parantheses & brackets\n",
    "names.extend(['George', 'Cate'])\n",
    "names"
   ]
  },
  {
   "cell_type": "code",
   "execution_count": 14,
   "id": "1d3fb2d7",
   "metadata": {},
   "outputs": [
    {
     "data": {
      "text/plain": [
       "6"
      ]
     },
     "execution_count": 14,
     "metadata": {},
     "output_type": "execute_result"
    }
   ],
   "source": [
    "len(names)"
   ]
  },
  {
   "cell_type": "markdown",
   "id": "a889fd97",
   "metadata": {},
   "source": [
    "#  List Slicing"
   ]
  },
  {
   "cell_type": "markdown",
   "id": "35af25f9",
   "metadata": {},
   "source": [
    "object[index of first value : index after the last value needed]"
   ]
  },
  {
   "cell_type": "code",
   "execution_count": 16,
   "id": "e8d31e7d",
   "metadata": {},
   "outputs": [
    {
     "data": {
      "text/plain": [
       "['Maria', 'Sasha']"
      ]
     },
     "execution_count": 16,
     "metadata": {},
     "output_type": "execute_result"
    }
   ],
   "source": [
    "names[1:3]"
   ]
  },
  {
   "cell_type": "code",
   "execution_count": 17,
   "id": "53b1a33e",
   "metadata": {},
   "outputs": [
    {
     "data": {
      "text/plain": [
       "['John', 'Maria']"
      ]
     },
     "execution_count": 17,
     "metadata": {},
     "output_type": "execute_result"
    }
   ],
   "source": [
    "#first two elements\n",
    "names[:2]"
   ]
  },
  {
   "cell_type": "code",
   "execution_count": 20,
   "id": "7aef02ec",
   "metadata": {},
   "outputs": [
    {
     "data": {
      "text/plain": [
       "['George', 'Cate']"
      ]
     },
     "execution_count": 20,
     "metadata": {},
     "output_type": "execute_result"
    }
   ],
   "source": [
    "#last two elements \n",
    "names[6:]"
   ]
  },
  {
   "cell_type": "code",
   "execution_count": 19,
   "id": "e4d882fb",
   "metadata": {},
   "outputs": [
    {
     "data": {
      "text/plain": [
       "['George', 'Cate']"
      ]
     },
     "execution_count": 19,
     "metadata": {},
     "output_type": "execute_result"
    }
   ],
   "source": [
    "#last two elements \n",
    "names[-2:]"
   ]
  },
  {
   "cell_type": "code",
   "execution_count": 21,
   "id": "424661d3",
   "metadata": {},
   "outputs": [
    {
     "data": {
      "text/plain": [
       "1"
      ]
     },
     "execution_count": 21,
     "metadata": {},
     "output_type": "execute_result"
    }
   ],
   "source": [
    "names.index(\"Maria\")"
   ]
  },
  {
   "cell_type": "code",
   "execution_count": 26,
   "id": "14baa5f9",
   "metadata": {},
   "outputs": [],
   "source": [
    "#list of lists\n",
    "newcomers = [\"Jake\", \"Brittany\"]"
   ]
  },
  {
   "cell_type": "code",
   "execution_count": 27,
   "id": "af345080",
   "metadata": {},
   "outputs": [
    {
     "data": {
      "text/plain": [
       "[['Jake', 'Brittany'],\n",
       " ['John', 'Maria', 'Sasha', 'Dwayne', 'George', 'Cate', 'George', 'Cate']]"
      ]
     },
     "execution_count": 27,
     "metadata": {},
     "output_type": "execute_result"
    }
   ],
   "source": [
    "Bigger_List = [newcomers, names]\n",
    "Bigger_List"
   ]
  },
  {
   "cell_type": "code",
   "execution_count": 30,
   "id": "bf292ae6",
   "metadata": {},
   "outputs": [
    {
     "data": {
      "text/plain": [
       "['Cate', 'Cate', 'Dwayne', 'George', 'George', 'John', 'Maria', 'Sasha']"
      ]
     },
     "execution_count": 30,
     "metadata": {},
     "output_type": "execute_result"
    }
   ],
   "source": [
    "#using the sort() method\n",
    "names.sort()\n",
    "names"
   ]
  },
  {
   "cell_type": "code",
   "execution_count": 29,
   "id": "52502f9f",
   "metadata": {},
   "outputs": [
    {
     "data": {
      "text/plain": [
       "['Sasha', 'Maria', 'John', 'George', 'George', 'Dwayne', 'Cate', 'Cate']"
      ]
     },
     "execution_count": 29,
     "metadata": {},
     "output_type": "execute_result"
    }
   ],
   "source": [
    "names.sort(reverse = True)\n",
    "names"
   ]
  },
  {
   "cell_type": "markdown",
   "id": "5b8b33f1",
   "metadata": {},
   "source": [
    "# Tuples ()"
   ]
  },
  {
   "cell_type": "markdown",
   "id": "a07d7ac7",
   "metadata": {},
   "source": [
    "Tuples are can not be changed or modified, can not append or delete elements\\\n",
    "Tuples are in ()"
   ]
  },
  {
   "cell_type": "code",
   "execution_count": 32,
   "id": "420c4fe8",
   "metadata": {},
   "outputs": [
    {
     "data": {
      "text/plain": [
       "(40, 41, 42)"
      ]
     },
     "execution_count": 32,
     "metadata": {},
     "output_type": "execute_result"
    }
   ],
   "source": [
    "x = (40, 41, 42)\n",
    "x"
   ]
  },
  {
   "cell_type": "code",
   "execution_count": 39,
   "id": "beae3ec1",
   "metadata": {},
   "outputs": [
    {
     "data": {
      "text/plain": [
       "(50, 51, 52)"
      ]
     },
     "execution_count": 39,
     "metadata": {},
     "output_type": "execute_result"
    }
   ],
   "source": [
    "y = 50, 51, 52\n",
    "y"
   ]
  },
  {
   "cell_type": "code",
   "execution_count": 36,
   "id": "bb6e88a5",
   "metadata": {},
   "outputs": [
    {
     "data": {
      "text/plain": [
       "6"
      ]
     },
     "execution_count": 36,
     "metadata": {},
     "output_type": "execute_result"
    }
   ],
   "source": [
    "#tuples of variables & tuples of values\n",
    "a, b, c = 1, 4, 6\n",
    "c"
   ]
  },
  {
   "cell_type": "code",
   "execution_count": 38,
   "id": "ed52175f",
   "metadata": {},
   "outputs": [
    {
     "data": {
      "text/plain": [
       "40"
      ]
     },
     "execution_count": 38,
     "metadata": {},
     "output_type": "execute_result"
    }
   ],
   "source": [
    "#index values\n",
    "x[0]"
   ]
  },
  {
   "cell_type": "code",
   "execution_count": 40,
   "id": "eb5fb618",
   "metadata": {},
   "outputs": [
    {
     "data": {
      "text/plain": [
       "[(40, 41, 42), (50, 51, 52)]"
      ]
     },
     "execution_count": 40,
     "metadata": {},
     "output_type": "execute_result"
    }
   ],
   "source": [
    "#tuples inside a list\n",
    "List_1 = [x,y]\n",
    "List_1"
   ]
  },
  {
   "cell_type": "code",
   "execution_count": 41,
   "id": "e90ff191",
   "metadata": {},
   "outputs": [],
   "source": [
    "(age, years_of_school) = \"30,17\".split(',')"
   ]
  },
  {
   "cell_type": "code",
   "execution_count": 42,
   "id": "816a2860",
   "metadata": {},
   "outputs": [
    {
     "name": "stdout",
     "output_type": "stream",
     "text": [
      "30\n"
     ]
    }
   ],
   "source": [
    "print(age)"
   ]
  },
  {
   "cell_type": "code",
   "execution_count": 43,
   "id": "bb21ed84",
   "metadata": {},
   "outputs": [
    {
     "name": "stdout",
     "output_type": "stream",
     "text": [
      "17\n"
     ]
    }
   ],
   "source": [
    "print(years_of_school)"
   ]
  },
  {
   "cell_type": "code",
   "execution_count": 44,
   "id": "674ff55e",
   "metadata": {},
   "outputs": [
    {
     "name": "stdout",
     "output_type": "stream",
     "text": [
      "Area and Perimeter:\n"
     ]
    },
    {
     "data": {
      "text/plain": [
       "(9, 12)"
      ]
     },
     "execution_count": 44,
     "metadata": {},
     "output_type": "execute_result"
    }
   ],
   "source": [
    "#functions can provide tuples as return values\n",
    "\n",
    "def square_info(x):\n",
    "    A = x ** 2\n",
    "    P = 4 * x\n",
    "    print(\"Area and Perimeter:\")\n",
    "    return A,P\n",
    "\n",
    "square_info(3)"
   ]
  },
  {
   "cell_type": "markdown",
   "id": "4f0b582c",
   "metadata": {},
   "source": [
    "# Dictionaries {}"
   ]
  },
  {
   "cell_type": "markdown",
   "id": "0ed02f09",
   "metadata": {},
   "source": [
    "Another way of storing data - Key : Value pair\\\n",
    "values can be accessed using its Key"
   ]
  },
  {
   "cell_type": "code",
   "execution_count": 45,
   "id": "96ac7007",
   "metadata": {},
   "outputs": [
    {
     "data": {
      "text/plain": [
       "{'k1': 'cat', 'k2': 'dog', 'k3': 'mouse', 'k4': 'fish'}"
      ]
     },
     "execution_count": 45,
     "metadata": {},
     "output_type": "execute_result"
    }
   ],
   "source": [
    "dict = {'k1':\"cat\", 'k2':\"dog\", 'k3':\"mouse\", 'k4':\"fish\"}\n",
    "dict"
   ]
  },
  {
   "cell_type": "code",
   "execution_count": 46,
   "id": "22fc0ee9",
   "metadata": {},
   "outputs": [
    {
     "data": {
      "text/plain": [
       "'cat'"
      ]
     },
     "execution_count": 46,
     "metadata": {},
     "output_type": "execute_result"
    }
   ],
   "source": [
    "dict['k1']"
   ]
  },
  {
   "cell_type": "code",
   "execution_count": 48,
   "id": "c227fd42",
   "metadata": {},
   "outputs": [
    {
     "data": {
      "text/plain": [
       "{'k1': 'cat', 'k2': 'dog', 'k3': 'mouse', 'k4': 'fish', 'k5': 'parrot'}"
      ]
     },
     "execution_count": 48,
     "metadata": {},
     "output_type": "execute_result"
    }
   ],
   "source": [
    "#assign a new key value pair\n",
    "#name of dict, new key name in quotes & brackets, equal sign, new value\n",
    "dict['k5'] = 'parrot'\n",
    "dict"
   ]
  },
  {
   "cell_type": "code",
   "execution_count": 50,
   "id": "9e77acc2",
   "metadata": {},
   "outputs": [
    {
     "data": {
      "text/plain": [
       "{'k1': 'cat', 'k2': 'squirrel', 'k3': 'mouse', 'k4': 'fish', 'k5': 'parrot'}"
      ]
     },
     "execution_count": 50,
     "metadata": {},
     "output_type": "execute_result"
    }
   ],
   "source": [
    "#replace value with existing key\n",
    "dict['k2'] = 'squirrel'\n",
    "dict"
   ]
  },
  {
   "cell_type": "code",
   "execution_count": 51,
   "id": "3acef5ba",
   "metadata": {},
   "outputs": [
    {
     "data": {
      "text/plain": [
       "{'dep_1': 'Peter', 'dep_2': ['Jen', 'Rob', 'Joy']}"
      ]
     },
     "execution_count": 51,
     "metadata": {},
     "output_type": "execute_result"
    }
   ],
   "source": [
    "#one person works in dept 1 and 3 people work in dept 3\n",
    "dep_workers = {'dep_1':\"Peter\", 'dep_2':['Jen', 'Rob', 'Joy']}\n",
    "dep_workers"
   ]
  },
  {
   "cell_type": "code",
   "execution_count": 52,
   "id": "3ea94673",
   "metadata": {},
   "outputs": [
    {
     "data": {
      "text/plain": [
       "['Jen', 'Rob', 'Joy']"
      ]
     },
     "execution_count": 52,
     "metadata": {},
     "output_type": "execute_result"
    }
   ],
   "source": [
    "dep_workers['dep_2']"
   ]
  },
  {
   "cell_type": "code",
   "execution_count": 53,
   "id": "d1beb2f4",
   "metadata": {},
   "outputs": [
    {
     "data": {
      "text/plain": [
       "{'Point Guard': 'Dirk', 'Center': 'Chris', 'Forward': 'Bob'}"
      ]
     },
     "execution_count": 53,
     "metadata": {},
     "output_type": "execute_result"
    }
   ],
   "source": [
    "Team = {}\n",
    "Team['Point Guard'] = 'Dirk'\n",
    "Team['Center'] = 'Chris'\n",
    "Team['Forward'] = 'Bob'\n",
    "Team"
   ]
  },
  {
   "cell_type": "code",
   "execution_count": 54,
   "id": "4f263c57",
   "metadata": {},
   "outputs": [
    {
     "data": {
      "text/plain": [
       "'Chris'"
      ]
     },
     "execution_count": 54,
     "metadata": {},
     "output_type": "execute_result"
    }
   ],
   "source": [
    "Team['Center']"
   ]
  },
  {
   "cell_type": "code",
   "execution_count": 56,
   "id": "73e7f8b8",
   "metadata": {},
   "outputs": [
    {
     "name": "stdout",
     "output_type": "stream",
     "text": [
      "None\n"
     ]
    }
   ],
   "source": [
    "print(Team.get('Coach'))"
   ]
  },
  {
   "cell_type": "markdown",
   "id": "86251a33",
   "metadata": {},
   "source": [
    "Attach the Desserts list as a sixth meal"
   ]
  },
  {
   "cell_type": "code",
   "execution_count": 57,
   "id": "713ab4d1",
   "metadata": {},
   "outputs": [],
   "source": [
    "Menu = {'meal_1':'Spaghetti', 'meal_2':'Fries', 'meal_3':'Cheeseburger', 'meal_4':'Lasagna'}\n",
    "Dessert = ['Pancakes', 'Ice-cream', 'Tiramisu']\n",
    "\n",
    "Menu['meal_6'] = Dessert"
   ]
  }
 ],
 "metadata": {
  "kernelspec": {
   "display_name": "Python 3 (ipykernel)",
   "language": "python",
   "name": "python3"
  },
  "language_info": {
   "codemirror_mode": {
    "name": "ipython",
    "version": 3
   },
   "file_extension": ".py",
   "mimetype": "text/x-python",
   "name": "python",
   "nbconvert_exporter": "python",
   "pygments_lexer": "ipython3",
   "version": "3.9.12"
  }
 },
 "nbformat": 4,
 "nbformat_minor": 5
}
