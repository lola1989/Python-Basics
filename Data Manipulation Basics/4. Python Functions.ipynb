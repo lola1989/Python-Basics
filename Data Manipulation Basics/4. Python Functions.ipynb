{
 "cells": [
  {
   "cell_type": "markdown",
   "id": "440f88e5",
   "metadata": {},
   "source": [
    "# Functions"
   ]
  },
  {
   "cell_type": "markdown",
   "id": "3c317f78",
   "metadata": {},
   "source": [
    "def - keyword to tell the computer you are defining a function"
   ]
  },
  {
   "cell_type": "code",
   "execution_count": 3,
   "id": "fd1d5ac1",
   "metadata": {},
   "outputs": [
    {
     "name": "stdout",
     "output_type": "stream",
     "text": [
      "My first function\n"
     ]
    }
   ],
   "source": [
    "#def function_name(parameters):\n",
    "    #function body\n",
    "#call function\n",
    "\n",
    "def simple():\n",
    "    print(\"My first function\")\n",
    "simple()"
   ]
  },
  {
   "cell_type": "markdown",
   "id": "c4e01631",
   "metadata": {},
   "source": [
    "# Functions with Parameters"
   ]
  },
  {
   "cell_type": "markdown",
   "id": "86d43abb",
   "metadata": {},
   "source": [
    "assign a more intuitive name to a function"
   ]
  },
  {
   "cell_type": "code",
   "execution_count": 4,
   "id": "3fe150d4",
   "metadata": {},
   "outputs": [
    {
     "data": {
      "text/plain": [
       "12"
      ]
     },
     "execution_count": 4,
     "metadata": {},
     "output_type": "execute_result"
    }
   ],
   "source": [
    "def plus_ten(a):\n",
    "    return a + 10\n",
    "\n",
    "plus_ten(2)"
   ]
  },
  {
   "cell_type": "code",
   "execution_count": 5,
   "id": "1b342b22",
   "metadata": {},
   "outputs": [],
   "source": [
    "#input:   >  f(x)   >  output:\n",
    "#  x      >  x+10   >  y\n",
    "#input(x) >  return >  output(y)"
   ]
  },
  {
   "cell_type": "code",
   "execution_count": 6,
   "id": "100c38dc",
   "metadata": {},
   "outputs": [
    {
     "data": {
      "text/plain": [
       "5.0"
      ]
     },
     "execution_count": 6,
     "metadata": {},
     "output_type": "execute_result"
    }
   ],
   "source": [
    "def division_by_2(x):\n",
    "    return float(x / 2)\n",
    "\n",
    "division_by_2(10)"
   ]
  },
  {
   "cell_type": "markdown",
   "id": "af3b3b95",
   "metadata": {},
   "source": [
    "# Defining a Function in Python"
   ]
  },
  {
   "cell_type": "markdown",
   "id": "caeb33f3",
   "metadata": {},
   "source": [
    "print - does not affect the calculation of the output\\\n",
    "\\\n",
    "return - does not visualize the output - specifies what the function is to give back"
   ]
  },
  {
   "cell_type": "code",
   "execution_count": 7,
   "id": "079625a2",
   "metadata": {},
   "outputs": [
    {
     "data": {
      "text/plain": [
       "15"
      ]
     },
     "execution_count": 7,
     "metadata": {},
     "output_type": "execute_result"
    }
   ],
   "source": [
    "#def function_name(parameters):\n",
    "    #another variable\n",
    "    #return variable\n",
    "#call function\n",
    "\n",
    "def plus_ten(a):\n",
    "    result = a + 10\n",
    "    return result\n",
    "plus_ten(5)"
   ]
  },
  {
   "cell_type": "markdown",
   "id": "f4c3cd21",
   "metadata": {},
   "source": [
    "Define a function called exponentiation_exp_2(x) that states the value of the argument accompanied by the phrase \"Raised to the power of 2:\" and returns a value equal to its argument raised to the power of 2. This time, use a new variable, called result, in the body of the Function. Call the function with some argument to verify it works properly."
   ]
  },
  {
   "cell_type": "code",
   "execution_count": 8,
   "id": "0ede5fa2",
   "metadata": {},
   "outputs": [
    {
     "name": "stdout",
     "output_type": "stream",
     "text": [
      "Raised to the power of 2:\n"
     ]
    },
    {
     "data": {
      "text/plain": [
       "16"
      ]
     },
     "execution_count": 8,
     "metadata": {},
     "output_type": "execute_result"
    }
   ],
   "source": [
    "def exponentiation_exp_2(x):\n",
    "    result = x ** 2\n",
    "    print(\"Raised to the power of 2:\")\n",
    "    return result\n",
    "    \n",
    "exponentiation_exp_2(4)"
   ]
  },
  {
   "cell_type": "markdown",
   "id": "dd8d6659",
   "metadata": {},
   "source": [
    "# Use a Function within a Function"
   ]
  },
  {
   "cell_type": "code",
   "execution_count": 9,
   "id": "e446ca42",
   "metadata": {},
   "outputs": [
    {
     "data": {
      "text/plain": [
       "25"
      ]
     },
     "execution_count": 9,
     "metadata": {},
     "output_type": "execute_result"
    }
   ],
   "source": [
    "def wage(w_hours):\n",
    "    return w_hours * 25\n",
    "\n",
    "wage(1)"
   ]
  },
  {
   "cell_type": "code",
   "execution_count": 11,
   "id": "fae051e3",
   "metadata": {},
   "outputs": [
    {
     "data": {
      "text/plain": [
       "(25, 75)"
      ]
     },
     "execution_count": 11,
     "metadata": {},
     "output_type": "execute_result"
    }
   ],
   "source": [
    "def wage(w_hours):\n",
    "    return w_hours * 25\n",
    "\n",
    "def with_bonus(w_hours):\n",
    "    return wage(w_hours) + 50\n",
    "\n",
    "wage(1), with_bonus(1)\n",
    "\n",
    "#must run first function first"
   ]
  },
  {
   "cell_type": "markdown",
   "id": "74159d5c",
   "metadata": {},
   "source": [
    "Define a function called plus_five() that adds 5 to its argument. Then, define another function named m_by_3() that multiplies the argument (the result obtained from plus_five()) by 3. Verify your code was correct by calling the second function with an argument of 5. Was your output equal to 30?\n"
   ]
  },
  {
   "cell_type": "code",
   "execution_count": 12,
   "id": "c10a47c8",
   "metadata": {},
   "outputs": [
    {
     "data": {
      "text/plain": [
       "30"
      ]
     },
     "execution_count": 12,
     "metadata": {},
     "output_type": "execute_result"
    }
   ],
   "source": [
    "def plus_five(a):\n",
    "    return a + 5\n",
    "    \n",
    "def m_by_3(a):\n",
    "    return plus_five(a) * 3\n",
    "\n",
    "m_by_3(5)"
   ]
  },
  {
   "cell_type": "markdown",
   "id": "dcec7b94",
   "metadata": {},
   "source": [
    "# Conditional Statements and Functions"
   ]
  },
  {
   "cell_type": "code",
   "execution_count": 13,
   "id": "94951a50",
   "metadata": {},
   "outputs": [
    {
     "data": {
      "text/plain": [
       "120"
      ]
     },
     "execution_count": 13,
     "metadata": {},
     "output_type": "execute_result"
    }
   ],
   "source": [
    "def add_ten(m):\n",
    "    if m >= 100:\n",
    "        m = m + 10\n",
    "        return m\n",
    "    else:\n",
    "        return \"Save more!\"\n",
    "    \n",
    "add_ten(110)"
   ]
  },
  {
   "cell_type": "code",
   "execution_count": 14,
   "id": "3a22a288",
   "metadata": {},
   "outputs": [
    {
     "data": {
      "text/plain": [
       "'Save more!'"
      ]
     },
     "execution_count": 14,
     "metadata": {},
     "output_type": "execute_result"
    }
   ],
   "source": [
    "add_ten(50)"
   ]
  },
  {
   "cell_type": "markdown",
   "id": "9aa013de",
   "metadata": {},
   "source": [
    "Define a function, called compare_the_two(), with two arguments. If the first one is greater than the second one, let it print \"Greater\". If the second one is greater, it should print \"Less\". Let it print \"Equal\" if the two values are the same number."
   ]
  },
  {
   "cell_type": "code",
   "execution_count": 15,
   "id": "57d54963",
   "metadata": {},
   "outputs": [
    {
     "data": {
      "text/plain": [
       "'Less'"
      ]
     },
     "execution_count": 15,
     "metadata": {},
     "output_type": "execute_result"
    }
   ],
   "source": [
    "def compare_the_two(x,y):\n",
    "    if x > y:\n",
    "        return \"Greater\"\n",
    "    elif y > x:\n",
    "        return \"Less\"\n",
    "    elif x == y:\n",
    "        return \"Equal\"\n",
    "        \n",
    "compare_the_two(1,5)"
   ]
  },
  {
   "cell_type": "markdown",
   "id": "e4c4a345",
   "metadata": {},
   "source": [
    "# Functions Containing a Few Arguments"
   ]
  },
  {
   "cell_type": "markdown",
   "id": "7ae58cc8",
   "metadata": {},
   "source": [
    "def function_name(paramater, paramater, parameter)"
   ]
  },
  {
   "cell_type": "code",
   "execution_count": 16,
   "id": "e03b798a",
   "metadata": {},
   "outputs": [
    {
     "name": "stdout",
     "output_type": "stream",
     "text": [
      "Parameter a equals 10\n",
      "Parameter b equals 3\n",
      "Parameter c equals 2\n"
     ]
    },
    {
     "data": {
      "text/plain": [
       "4"
      ]
     },
     "execution_count": 16,
     "metadata": {},
     "output_type": "execute_result"
    }
   ],
   "source": [
    "def subtract_bc(a,b,c):\n",
    "    result = a - b * c\n",
    "    print('Parameter a equals', a)\n",
    "    print('Parameter b equals', b)\n",
    "    print('Parameter c equals', c)\n",
    "    return result\n",
    "\n",
    "subtract_bc(10,3,2)"
   ]
  },
  {
   "cell_type": "code",
   "execution_count": 17,
   "id": "1290b3b6",
   "metadata": {},
   "outputs": [
    {
     "name": "stdout",
     "output_type": "stream",
     "text": [
      "Parameter a equals 10\n",
      "Parameter b equals 3\n",
      "Parameter c equals 2\n"
     ]
    },
    {
     "data": {
      "text/plain": [
       "4"
      ]
     },
     "execution_count": 17,
     "metadata": {},
     "output_type": "execute_result"
    }
   ],
   "source": [
    "subtract_bc(c = 2, a = 10,b = 3)"
   ]
  },
  {
   "cell_type": "markdown",
   "id": "4678be75",
   "metadata": {},
   "source": [
    "# Built-in Functions in Python"
   ]
  },
  {
   "cell_type": "code",
   "execution_count": 24,
   "id": "b12ee8f2",
   "metadata": {},
   "outputs": [
    {
     "data": {
      "text/plain": [
       "str"
      ]
     },
     "execution_count": 24,
     "metadata": {},
     "output_type": "execute_result"
    }
   ],
   "source": [
    "#type() obtains the type of variable you use as an arguement\n",
    "type('10')"
   ]
  },
  {
   "cell_type": "code",
   "execution_count": 22,
   "id": "268bf26a",
   "metadata": {},
   "outputs": [
    {
     "data": {
      "text/plain": [
       "5"
      ]
     },
     "execution_count": 22,
     "metadata": {},
     "output_type": "execute_result"
    }
   ],
   "source": [
    "#int(), float(), str() transform their arguments in an integer, float, and string data type\n",
    "int(5.0)"
   ]
  },
  {
   "cell_type": "code",
   "execution_count": 21,
   "id": "97a376df",
   "metadata": {},
   "outputs": [
    {
     "data": {
      "text/plain": [
       "5.0"
      ]
     },
     "execution_count": 21,
     "metadata": {},
     "output_type": "execute_result"
    }
   ],
   "source": [
    "float(5)"
   ]
  },
  {
   "cell_type": "code",
   "execution_count": 23,
   "id": "266eb282",
   "metadata": {},
   "outputs": [
    {
     "data": {
      "text/plain": [
       "'500'"
      ]
     },
     "execution_count": 23,
     "metadata": {},
     "output_type": "execute_result"
    }
   ],
   "source": [
    "str(500)"
   ]
  },
  {
   "cell_type": "code",
   "execution_count": 25,
   "id": "f702b36c",
   "metadata": {},
   "outputs": [],
   "source": [
    "#max() returns max value from a sequence of numbers\n",
    "#min() returns min value\n",
    "#abs() allows you to absolute valuse of its argument\n",
    "#sum() returns the sum of all values in the argument\n",
    "#round(x,y) returns the float of its argyment (x), rounded to a specific number ot digits (y) after the decimal\n",
    "#pow(x,y) returns x to the power of y\n",
    "#len() returns the number of elements in an object"
   ]
  },
  {
   "cell_type": "markdown",
   "id": "a1559969",
   "metadata": {},
   "source": [
    "Create a function, called distance_from_zero(), that returns the absolute value of a provided single argument and prints a statement \"Not possible\" if the argument provided is not a number. To solve the task, use the type() function in the body of distance_from_zero().\n",
    "\n",
    "Call the function with the values of -10 and \"cat\" to verify it works correctly."
   ]
  },
  {
   "cell_type": "code",
   "execution_count": 26,
   "id": "21d02461",
   "metadata": {},
   "outputs": [],
   "source": [
    "def distance_from_zero(x):\n",
    "    if type(x) == str:\n",
    "        print(\"Not possible\")\n",
    "    else:\n",
    "        return abs(x)"
   ]
  },
  {
   "cell_type": "code",
   "execution_count": 27,
   "id": "a55fc94d",
   "metadata": {},
   "outputs": [
    {
     "data": {
      "text/plain": [
       "10"
      ]
     },
     "execution_count": 27,
     "metadata": {},
     "output_type": "execute_result"
    }
   ],
   "source": [
    "distance_from_zero(-10)"
   ]
  },
  {
   "cell_type": "code",
   "execution_count": 28,
   "id": "40610048",
   "metadata": {},
   "outputs": [
    {
     "name": "stdout",
     "output_type": "stream",
     "text": [
      "Not possible\n"
     ]
    }
   ],
   "source": [
    "distance_from_zero('cat')"
   ]
  }
 ],
 "metadata": {
  "kernelspec": {
   "display_name": "Python 3 (ipykernel)",
   "language": "python",
   "name": "python3"
  },
  "language_info": {
   "codemirror_mode": {
    "name": "ipython",
    "version": 3
   },
   "file_extension": ".py",
   "mimetype": "text/x-python",
   "name": "python",
   "nbconvert_exporter": "python",
   "pygments_lexer": "ipython3",
   "version": "3.9.12"
  }
 },
 "nbformat": 4,
 "nbformat_minor": 5
}
