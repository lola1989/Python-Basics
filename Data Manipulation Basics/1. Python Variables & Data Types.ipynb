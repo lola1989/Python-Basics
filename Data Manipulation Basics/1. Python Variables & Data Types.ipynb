{
 "cells": [
  {
   "cell_type": "markdown",
   "id": "148c169b",
   "metadata": {},
   "source": [
    "# Python Variables"
   ]
  },
  {
   "cell_type": "markdown",
   "id": "5914c569",
   "metadata": {},
   "source": [
    "On the same line, create four new variables: a, b, c, and d, that are equal to 10, 20, 30, and 40, respectively."
   ]
  },
  {
   "cell_type": "code",
   "execution_count": 1,
   "id": "d388e393",
   "metadata": {},
   "outputs": [],
   "source": [
    "a,b,c,d = (10,20,30,40)"
   ]
  },
  {
   "cell_type": "markdown",
   "id": "9cf7b378",
   "metadata": {},
   "source": [
    "# Numbers and Boolean Values"
   ]
  },
  {
   "cell_type": "code",
   "execution_count": 3,
   "id": "b33a1b8c",
   "metadata": {},
   "outputs": [
    {
     "data": {
      "text/plain": [
       "int"
      ]
     },
     "execution_count": 3,
     "metadata": {},
     "output_type": "execute_result"
    }
   ],
   "source": [
    "type(-6)"
   ]
  },
  {
   "cell_type": "code",
   "execution_count": 2,
   "id": "718ad934",
   "metadata": {},
   "outputs": [
    {
     "data": {
      "text/plain": [
       "float"
      ]
     },
     "execution_count": 2,
     "metadata": {},
     "output_type": "execute_result"
    }
   ],
   "source": [
    "x2 = 4.75\n",
    "type(x2)"
   ]
  },
  {
   "cell_type": "code",
   "execution_count": 4,
   "id": "5d910430",
   "metadata": {},
   "outputs": [
    {
     "data": {
      "text/plain": [
       "4"
      ]
     },
     "execution_count": 4,
     "metadata": {},
     "output_type": "execute_result"
    }
   ],
   "source": [
    "int(x2)"
   ]
  },
  {
   "cell_type": "code",
   "execution_count": 5,
   "id": "4a416d36",
   "metadata": {},
   "outputs": [
    {
     "data": {
      "text/plain": [
       "5.0"
      ]
     },
     "execution_count": 5,
     "metadata": {},
     "output_type": "execute_result"
    }
   ],
   "source": [
    "float(5)"
   ]
  },
  {
   "cell_type": "markdown",
   "id": "4fd33e34",
   "metadata": {},
   "source": [
    "# String"
   ]
  },
  {
   "cell_type": "code",
   "execution_count": 6,
   "id": "995e55d4",
   "metadata": {},
   "outputs": [
    {
     "data": {
      "text/plain": [
       "'George'"
      ]
     },
     "execution_count": 6,
     "metadata": {},
     "output_type": "execute_result"
    }
   ],
   "source": [
    "'George'\n",
    "\"George\""
   ]
  },
  {
   "cell_type": "code",
   "execution_count": 10,
   "id": "564d0141",
   "metadata": {},
   "outputs": [
    {
     "data": {
      "text/plain": [
       "'George'"
      ]
     },
     "execution_count": 10,
     "metadata": {},
     "output_type": "execute_result"
    }
   ],
   "source": [
    "x4 = 'George'\n",
    "x4"
   ]
  },
  {
   "cell_type": "code",
   "execution_count": 12,
   "id": "85a57d9a",
   "metadata": {},
   "outputs": [
    {
     "name": "stdout",
     "output_type": "stream",
     "text": [
      "10 Dollars\n"
     ]
    }
   ],
   "source": [
    "y = 10\n",
    "print(str(y) + \" Dollars\")"
   ]
  },
  {
   "cell_type": "code",
   "execution_count": 13,
   "id": "e1dc08b0",
   "metadata": {},
   "outputs": [
    {
     "data": {
      "text/plain": [
       "\"I'm fine\""
      ]
     },
     "execution_count": 13,
     "metadata": {},
     "output_type": "execute_result"
    }
   ],
   "source": [
    "\"I'm fine\""
   ]
  },
  {
   "cell_type": "code",
   "execution_count": 14,
   "id": "9fe71558",
   "metadata": {},
   "outputs": [
    {
     "data": {
      "text/plain": [
       "\"I'm fine\""
      ]
     },
     "execution_count": 14,
     "metadata": {},
     "output_type": "execute_result"
    }
   ],
   "source": [
    "'I\\'m fine'"
   ]
  },
  {
   "cell_type": "code",
   "execution_count": 15,
   "id": "8f0ce80d",
   "metadata": {},
   "outputs": [
    {
     "data": {
      "text/plain": [
       "'Press \"Enter\"'"
      ]
     },
     "execution_count": 15,
     "metadata": {},
     "output_type": "execute_result"
    }
   ],
   "source": [
    "'Press \"Enter\"'"
   ]
  },
  {
   "cell_type": "code",
   "execution_count": 16,
   "id": "d9b89321",
   "metadata": {},
   "outputs": [
    {
     "data": {
      "text/plain": [
       "'red car'"
      ]
     },
     "execution_count": 16,
     "metadata": {},
     "output_type": "execute_result"
    }
   ],
   "source": [
    "'red ' 'car'"
   ]
  },
  {
   "cell_type": "code",
   "execution_count": 17,
   "id": "3cecd905",
   "metadata": {},
   "outputs": [
    {
     "name": "stdout",
     "output_type": "stream",
     "text": [
      "red car\n"
     ]
    }
   ],
   "source": [
    "print('red ' 'car')"
   ]
  },
  {
   "cell_type": "markdown",
   "id": "96caffbb",
   "metadata": {},
   "source": [
    "# Arithmetic Operators in Python"
   ]
  },
  {
   "cell_type": "code",
   "execution_count": 18,
   "id": "1c1fe5a8",
   "metadata": {},
   "outputs": [
    {
     "data": {
      "text/plain": [
       "3"
      ]
     },
     "execution_count": 18,
     "metadata": {},
     "output_type": "execute_result"
    }
   ],
   "source": [
    "1 + 2"
   ]
  },
  {
   "cell_type": "code",
   "execution_count": 19,
   "id": "ea3ba436",
   "metadata": {},
   "outputs": [
    {
     "data": {
      "text/plain": [
       "5.0"
      ]
     },
     "execution_count": 19,
     "metadata": {},
     "output_type": "execute_result"
    }
   ],
   "source": [
    "15 / 3"
   ]
  },
  {
   "cell_type": "code",
   "execution_count": null,
   "id": "b5f63154",
   "metadata": {},
   "outputs": [
    {
     "data": {
      "text/plain": [
       "5.333333333333333"
      ]
     },
     "execution_count": 20,
     "metadata": {},
     "output_type": "execute_result"
    }
   ],
   "source": [
    "16 / 3\n"
   ]
  },
  {
   "cell_type": "code",
   "execution_count": 21,
   "id": "b985d918",
   "metadata": {},
   "outputs": [
    {
     "data": {
      "text/plain": [
       "5.333333333333333"
      ]
     },
     "execution_count": 21,
     "metadata": {},
     "output_type": "execute_result"
    }
   ],
   "source": [
    "float(16)/3"
   ]
  },
  {
   "cell_type": "code",
   "execution_count": 22,
   "id": "abc43875",
   "metadata": {},
   "outputs": [
    {
     "data": {
      "text/plain": [
       "1"
      ]
     },
     "execution_count": 22,
     "metadata": {},
     "output_type": "execute_result"
    }
   ],
   "source": [
    "16 % 3\n",
    "#remainder of the division"
   ]
  },
  {
   "cell_type": "code",
   "execution_count": 23,
   "id": "5ee8aa64",
   "metadata": {},
   "outputs": [
    {
     "data": {
      "text/plain": [
       "16"
      ]
     },
     "execution_count": 23,
     "metadata": {},
     "output_type": "execute_result"
    }
   ],
   "source": [
    "4 * 4"
   ]
  },
  {
   "cell_type": "code",
   "execution_count": 25,
   "id": "0aacfab2",
   "metadata": {},
   "outputs": [
    {
     "data": {
      "text/plain": [
       "20"
      ]
     },
     "execution_count": 25,
     "metadata": {},
     "output_type": "execute_result"
    }
   ],
   "source": [
    "x = 4 * 5\n",
    "x"
   ]
  },
  {
   "cell_type": "code",
   "execution_count": 26,
   "id": "a5190282",
   "metadata": {},
   "outputs": [
    {
     "data": {
      "text/plain": [
       "125"
      ]
     },
     "execution_count": 26,
     "metadata": {},
     "output_type": "execute_result"
    }
   ],
   "source": [
    "5 ** 3\n",
    "#5 to the power of 3"
   ]
  },
  {
   "cell_type": "markdown",
   "id": "b359d98f",
   "metadata": {},
   "source": [
    "# Double Equality Sign"
   ]
  },
  {
   "cell_type": "code",
   "execution_count": 27,
   "id": "adf9bb98",
   "metadata": {},
   "outputs": [
    {
     "data": {
      "text/plain": [
       "125"
      ]
     },
     "execution_count": 27,
     "metadata": {},
     "output_type": "execute_result"
    }
   ],
   "source": [
    "y = 5 ** 3\n",
    "y"
   ]
  },
  {
   "cell_type": "code",
   "execution_count": 29,
   "id": "5e723b16",
   "metadata": {},
   "outputs": [
    {
     "data": {
      "text/plain": [
       "True"
      ]
     },
     "execution_count": 29,
     "metadata": {},
     "output_type": "execute_result"
    }
   ],
   "source": [
    "y == 125"
   ]
  },
  {
   "cell_type": "code",
   "execution_count": 30,
   "id": "c12983c7",
   "metadata": {},
   "outputs": [
    {
     "data": {
      "text/plain": [
       "False"
      ]
     },
     "execution_count": 30,
     "metadata": {},
     "output_type": "execute_result"
    }
   ],
   "source": [
    "y == 126"
   ]
  },
  {
   "cell_type": "markdown",
   "id": "da2a49d3",
   "metadata": {},
   "source": [
    "# Reassign Values"
   ]
  },
  {
   "cell_type": "code",
   "execution_count": 31,
   "id": "df472253",
   "metadata": {},
   "outputs": [
    {
     "data": {
      "text/plain": [
       "1"
      ]
     },
     "execution_count": 31,
     "metadata": {},
     "output_type": "execute_result"
    }
   ],
   "source": [
    "z = 1\n",
    "z"
   ]
  },
  {
   "cell_type": "code",
   "execution_count": 32,
   "id": "ae6bf842",
   "metadata": {},
   "outputs": [
    {
     "data": {
      "text/plain": [
       "3"
      ]
     },
     "execution_count": 32,
     "metadata": {},
     "output_type": "execute_result"
    }
   ],
   "source": [
    "z = 3\n",
    "z"
   ]
  },
  {
   "cell_type": "code",
   "execution_count": null,
   "id": "d4deda37",
   "metadata": {},
   "outputs": [],
   "source": [
    "#latest command is valid and olders command is invalid"
   ]
  },
  {
   "cell_type": "markdown",
   "id": "716b2f65",
   "metadata": {},
   "source": [
    "# Adding comments"
   ]
  },
  {
   "cell_type": "code",
   "execution_count": 33,
   "id": "55591d33",
   "metadata": {},
   "outputs": [],
   "source": [
    "#this is a comment"
   ]
  },
  {
   "cell_type": "markdown",
   "id": "8a9ff3c2",
   "metadata": {},
   "source": [
    "# Line Continuation"
   ]
  },
  {
   "cell_type": "markdown",
   "id": "920f80c6",
   "metadata": {},
   "source": [
    "the \"\\\" is ues to tell python the code continues on the following line"
   ]
  },
  {
   "cell_type": "code",
   "execution_count": 35,
   "id": "0ee98706",
   "metadata": {},
   "outputs": [
    {
     "data": {
      "text/plain": [
       "8.0"
      ]
     },
     "execution_count": 35,
     "metadata": {},
     "output_type": "execute_result"
    }
   ],
   "source": [
    "2.0 * 1.5 + \\\n",
    "5"
   ]
  },
  {
   "cell_type": "markdown",
   "id": "d321269f",
   "metadata": {},
   "source": [
    "# Indexing"
   ]
  },
  {
   "cell_type": "markdown",
   "id": "85decae4",
   "metadata": {},
   "source": [
    "Indexing starts at 0"
   ]
  },
  {
   "cell_type": "code",
   "execution_count": 36,
   "id": "924cc8d5",
   "metadata": {},
   "outputs": [
    {
     "data": {
      "text/plain": [
       "'d'"
      ]
     },
     "execution_count": 36,
     "metadata": {},
     "output_type": "execute_result"
    }
   ],
   "source": [
    "\"Friday\"[3]"
   ]
  },
  {
   "cell_type": "code",
   "execution_count": 37,
   "id": "ebead6d1",
   "metadata": {},
   "outputs": [
    {
     "data": {
      "text/plain": [
       "'F'"
      ]
     },
     "execution_count": 37,
     "metadata": {},
     "output_type": "execute_result"
    }
   ],
   "source": [
    "\"Friday\"[0]"
   ]
  },
  {
   "cell_type": "markdown",
   "id": "b0a2bb5a",
   "metadata": {},
   "source": [
    "# Structure with Indentation"
   ]
  },
  {
   "cell_type": "code",
   "execution_count": 40,
   "id": "c97bb33e",
   "metadata": {},
   "outputs": [
    {
     "name": "stdout",
     "output_type": "stream",
     "text": [
      "5\n"
     ]
    }
   ],
   "source": [
    "def five(x):\n",
    "    x = 5\n",
    "    return x\n",
    "print(five(2))"
   ]
  }
 ],
 "metadata": {
  "kernelspec": {
   "display_name": "Python 3 (ipykernel)",
   "language": "python",
   "name": "python3"
  },
  "language_info": {
   "codemirror_mode": {
    "name": "ipython",
    "version": 3
   },
   "file_extension": ".py",
   "mimetype": "text/x-python",
   "name": "python",
   "nbconvert_exporter": "python",
   "pygments_lexer": "ipython3",
   "version": "3.9.12"
  }
 },
 "nbformat": 4,
 "nbformat_minor": 5
}
