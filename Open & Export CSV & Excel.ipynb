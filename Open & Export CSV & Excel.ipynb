{
 "cells": [
  {
   "cell_type": "markdown",
   "id": "f43a3b42",
   "metadata": {},
   "source": [
    "# Open & Export CSV & Excel"
   ]
  },
  {
   "cell_type": "markdown",
   "id": "78525aba",
   "metadata": {},
   "source": [
    "Using Python 3.9.12\n",
    "\n",
    "This notebook allows you to:\n",
    "1. Open a CSV or Excel Workbook into a Pandas DataFrame\n",
    "2. Export the DataFrame as a new CSV or Excel Workbook."
   ]
  },
  {
   "cell_type": "code",
   "execution_count": null,
   "id": "d16dd4a1",
   "metadata": {},
   "outputs": [],
   "source": [
    "# Import Libraries\n",
    "import pandas as pd"
   ]
  },
  {
   "cell_type": "markdown",
   "id": "1f2b2938",
   "metadata": {},
   "source": [
    "### CSV"
   ]
  },
  {
   "cell_type": "code",
   "execution_count": null,
   "id": "c5ab9a38",
   "metadata": {},
   "outputs": [],
   "source": [
    "# Open & Print CSV\n",
    "data = pd.read_csv('/file_path.csv')\n",
    "data\n"
   ]
  },
  {
   "cell_type": "code",
   "execution_count": null,
   "id": "54f2d919",
   "metadata": {},
   "outputs": [],
   "source": [
    "# Export CSV without index\n",
    "data.to_csv(r'/file_path.csv', index=False)"
   ]
  },
  {
   "cell_type": "markdown",
   "id": "864d1c07",
   "metadata": {},
   "source": [
    "### Excel Workbook"
   ]
  },
  {
   "cell_type": "code",
   "execution_count": null,
   "id": "cdd24230",
   "metadata": {},
   "outputs": [],
   "source": [
    "# Open & Print Excel Sheet\n",
    "data = pd.read_excel('/file_path.xlsx', sheet_name = 'sheet_name')\n",
    "data"
   ]
  },
  {
   "cell_type": "code",
   "execution_count": null,
   "id": "7f9fb484",
   "metadata": {},
   "outputs": [],
   "source": [
    "# Export Excel Workbook without index\n",
    "data.to_excel('file_path.xlsx', sheet_name = 'sheet_name', index=False)"
   ]
  }
 ],
 "metadata": {
  "kernelspec": {
   "display_name": "base",
   "language": "python",
   "name": "python3"
  },
  "language_info": {
   "codemirror_mode": {
    "name": "ipython",
    "version": 3
   },
   "file_extension": ".py",
   "mimetype": "text/x-python",
   "name": "python",
   "nbconvert_exporter": "python",
   "pygments_lexer": "ipython3",
   "version": "3.9.12"
  }
 },
 "nbformat": 4,
 "nbformat_minor": 5
}
